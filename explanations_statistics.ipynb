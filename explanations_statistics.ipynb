{
 "cells": [
  {
   "cell_type": "code",
   "execution_count": 15,
   "metadata": {},
   "outputs": [],
   "source": [
    "import pandas as pd\n",
    "from scipy import sparse\n",
    "import numpy as np\n",
    "from sklearn.metrics.pairwise import cosine_similarity\n"
   ]
  },
  {
   "cell_type": "code",
   "execution_count": 3,
   "metadata": {},
   "outputs": [],
   "source": [
    "def get_user_projects( user_index):\n",
    "    known_user_likes = data_items_train.loc[user_index]\n",
    "    known_user_likes = known_user_likes[known_user_likes > 0].index.values\n",
    "    return known_user_likes"
   ]
  },
  {
   "cell_type": "code",
   "execution_count": 2,
   "metadata": {},
   "outputs": [],
   "source": [
    "import numpy as np\n",
    "def cast_to_list_of_int(lst):\n",
    "    if lst is not np.nan:\n",
    "        return [int(p) for p in ast.literal_eval(lst)]"
   ]
  },
  {
   "cell_type": "code",
   "execution_count": 4,
   "metadata": {},
   "outputs": [],
   "source": [
    "import re\n",
    "import ast\n",
    "import pandas as pd\n",
    "output = pd.read_csv('output_D2_scaled.csv')\n",
    "output['recommended'] = output['recommended'].apply(lambda x : cast_to_list_of_int(x))\n",
    "output['popularity'] = output['popularity'].apply(lambda x : cast_to_list_of_int(x))\n",
    "output['general'] = output['general'].apply(lambda x : cast_to_list_of_int(x))\n",
    "output['user_user'] = output['user_user'].apply(lambda x : cast_to_list_of_int(x))\n",
    "output['item_item'] = output['item_item'].apply(lambda x : cast_to_list_of_int(x))\n",
    "output['associations'] = output['associations'].apply(lambda x : cast_to_list_of_int(x))\n",
    "output['content'] = output['content'].apply(lambda x : cast_to_list_of_int(x))\n",
    "\n",
    "output['test'] = output['test'].apply(lambda x : re.sub(r'[\\[\\]]', '',x).split())"
   ]
  },
  {
   "cell_type": "code",
   "execution_count": 5,
   "metadata": {},
   "outputs": [
    {
     "data": {
      "text/plain": [
       "(0.13078810180926095, 0.390360099881719)"
      ]
     },
     "execution_count": 5,
     "metadata": {},
     "output_type": "execute_result"
    }
   ],
   "source": [
    "def precision_recall_at_k(k):\n",
    "    results = []\n",
    "    ip_addresses = ['']\n",
    "    i=0\n",
    "    for index, row in output.iterrows():\n",
    "        precision = np.intersect1d(row['recommended'][:k], row['test']).size / len(row['recommended'][:k])\n",
    "        recall = np.intersect1d(row['recommended'][:k], row['test']).size / len(row['test'])\n",
    "        results.append([precision,recall])\n",
    "    precisions = np.mean([i[0] for i in results if i[0]>=0])\n",
    "    recalls = np.mean([i[1] for i in results if i[1]>=0])\n",
    "    return  precisions, recalls\n",
    "precision_recall_at_k(3)"
   ]
  },
  {
   "cell_type": "code",
   "execution_count": 7,
   "metadata": {},
   "outputs": [],
   "source": [
    "def get_duplicate_values_in_dict(dictionary):\n",
    "    flipped = {}\n",
    "    to_return = []\n",
    "    for key, value in dictionary.items():\n",
    "        if value not in flipped:\n",
    "            flipped[value] = [key]\n",
    "        else:\n",
    "            flipped[value].append(key)\n",
    "    flipped = dict(sorted(flipped.items(), key=lambda item: item[1]))\n",
    "    for key, value in flipped.items():\n",
    "        if len(value) > 1:\n",
    "            to_return.extend(value)\n",
    "    return to_return\n",
    "\n",
    "\n",
    "def get_best_order(idx, base_order=['item_item', 'user_user', 'content']):\n",
    "    recs = output.iloc[idx]['recommended']\n",
    "    i = 0\n",
    "    best_order = {}\n",
    "    for alg in base_order:\n",
    "        project_list = output.iloc[idx][alg]\n",
    "        if project_list:\n",
    "            best_order[alg] = recs.index(project_list[0])\n",
    "    best_order = dict(sorted(best_order.items(), key=lambda item: item[1]))\n",
    "    return list(best_order.keys())\n",
    "\n",
    "\n",
    "def get_kendal_lvinstain_from_ordered_list(idx, list_ordered):\n",
    "    \"\"\"\n",
    "    :param idx:\n",
    "    :param list_ordered:\n",
    "    :return:\n",
    "    \"\"\"\n",
    "    recs = output.iloc[idx]['recommended']\n",
    "    explained_recs = []\n",
    "    for alg in list_ordered:\n",
    "        if output.iloc[idx][alg]:\n",
    "            explained_recs.extend(output.iloc[idx][alg])\n",
    "    if len(recs) != len(explained_recs):\n",
    "        print(\"you have a bug!!!!\")\n",
    "#     kendal = (kendalltau(recs, explained_recs)[0] + 1) / 2\n",
    "#     lvinstain = normalized_damerau_levenshtein_distance(recs, explained_recs)\n",
    "    return explained_recs\n",
    "\n",
    "def get_display_order_list(idx):\n",
    "    output_order = ['associations']\n",
    "    output_order.extend(get_best_order(idx))\n",
    "    output_order.extend(get_best_order(idx,['popularity', 'general']))\n",
    "    return get_kendal_lvinstain_from_ordered_list(idx, output_order)\n",
    "\n",
    "\n",
    "def get_optimal_order_list(idx):\n",
    "    \"\"\"\n",
    "    :param idx:\n",
    "    :return: list_ordered\n",
    "    \"\"\"\n",
    "    output_order = ['associations', 'content', 'item_item', 'user_user', 'popularity', 'general']\n",
    "    output_order = get_best_order(idx, output_order)\n",
    "    return get_kendal_lvinstain_from_ordered_list(idx, output_order)\n",
    "\n",
    "\n",
    "def get_larger_size_order_list(idx):\n",
    "    explain_algs = ['associations', 'content', 'item_item', 'user_user', 'popularity', 'general']\n",
    "    explain_size_dict = {}\n",
    "    for alg in explain_algs:\n",
    "        if output.iloc[idx][alg]:\n",
    "            explain_size_dict[alg] = len(output.iloc[idx][alg])\n",
    "    explain_size_dict = dict(sorted(explain_size_dict.items(), reverse=True, key=lambda item: item[1]))\n",
    "    duplicate_to_sort = get_duplicate_values_in_dict(explain_size_dict)\n",
    "    explain_size_list = explain_size_dict.keys()\n",
    "    explain_size_list = list(explain_size_list)\n",
    "    # if we have the same size, we prefer the order that closest to the optimal\n",
    "    if len(duplicate_to_sort) > 0:\n",
    "        sorted_list = get_best_order(idx, duplicate_to_sort)\n",
    "        opt = explain_size_list.copy()\n",
    "        for i in range(len(duplicate_to_sort)):\n",
    "            opt[explain_size_list.index(duplicate_to_sort[i])] = sorted_list[i]\n",
    "        return get_kendal_lvinstain_from_ordered_list(idx, opt)\n",
    "    return get_kendal_lvinstain_from_ordered_list(idx, explain_size_list)\n",
    "\n",
    "\n",
    "def kendal_lvinstain(order_function):\n",
    "    results = []\n",
    "    for index, row in output.iterrows():\n",
    "        kendal, lvinstain = order_function(index)\n",
    "        results.append([kendal, lvinstain])\n",
    "    kendal = np.mean([i[0] for i in results if i[0] >= 0])\n",
    "    lvinstain = np.mean([i[1] for i in results if i[1] >= 0])\n",
    "    return kendal, lvinstain\n"
   ]
  },
  {
   "cell_type": "code",
   "execution_count": 14,
   "metadata": {},
   "outputs": [
    {
     "data": {
      "text/plain": [
       "[167, 172, 192, 98, 2774, 173, 75, 91, 97, 2992]"
      ]
     },
     "execution_count": 14,
     "metadata": {},
     "output_type": "execute_result"
    }
   ],
   "source": [
    "get_optimal_order_list(1)"
   ]
  },
  {
   "cell_type": "code",
   "execution_count": 12,
   "metadata": {},
   "outputs": [
    {
     "data": {
      "text/plain": [
       "[167, 172, 192, 98, 75, 91, 97, 2992, 2774, 173]"
      ]
     },
     "execution_count": 12,
     "metadata": {},
     "output_type": "execute_result"
    }
   ],
   "source": [
    "get_larger_size_order_list(1)"
   ]
  },
  {
   "cell_type": "code",
   "execution_count": 8,
   "metadata": {},
   "outputs": [
    {
     "data": {
      "text/plain": [
       "[173, 167, 172, 192, 98, 75, 91, 2774, 97, 2992]"
      ]
     },
     "execution_count": 8,
     "metadata": {},
     "output_type": "execute_result"
    }
   ],
   "source": [
    "get_display_order_list(1)"
   ]
  },
  {
   "cell_type": "code",
   "execution_count": 10,
   "metadata": {},
   "outputs": [
    {
     "data": {
      "text/plain": [
       "[167, 172, 2774, 173, 75, 192, 97, 98, 91, 2992]"
      ]
     },
     "execution_count": 10,
     "metadata": {},
     "output_type": "execute_result"
    }
   ],
   "source": [
    "output.iloc[1]['recommended']"
   ]
  },
  {
   "cell_type": "code",
   "execution_count": 11,
   "metadata": {},
   "outputs": [
    {
     "data": {
      "text/plain": [
       "general                                                   [2774]\n",
       "item_item                                               [75, 91]\n",
       "popularity                                            [97, 2992]\n",
       "recommended     [167, 172, 2774, 173, 75, 192, 97, 98, 91, 2992]\n",
       "test                                                        [91]\n",
       "user                        89eea5f4-07ff-5a11-b546-5e66a1bfd3d3\n",
       "user_user                                                   None\n",
       "associations                                               [173]\n",
       "content                                      [167, 172, 192, 98]\n",
       "Name: 1, dtype: object"
      ]
     },
     "execution_count": 11,
     "metadata": {},
     "output_type": "execute_result"
    }
   ],
   "source": [
    "output.iloc[1]"
   ]
  },
  {
   "cell_type": "code",
   "execution_count": 18,
   "metadata": {},
   "outputs": [
    {
     "data": {
      "text/plain": [
       "'439(g)'"
      ]
     },
     "execution_count": 18,
     "metadata": {},
     "output_type": "execute_result"
    }
   ],
   "source": [
    "def add_method_user_index(lst,method, user, index):\n",
    "    lst.insert(0,method)\n",
    "    lst.insert(0,user)\n",
    "    lst.insert(0,index)\n",
    "    return lst\n",
    "\n",
    "\n",
    "def get_project_explainer(user, project):\n",
    "    for alg, lst in output[output['user']==user].iloc[0].to_dict().items():\n",
    "        if isinstance(lst, list):\n",
    "            if project in lst and alg !='recommended':\n",
    "                return str(int(project)) + f\"({alg[0]})\"\n",
    "get_project_explainer('96260f34-2fb3-567d-b3cc-eabb230b449d', 439)"
   ]
  },
  {
   "cell_type": "code",
   "execution_count": 16,
   "metadata": {},
   "outputs": [],
   "source": [
    "def get_data():\n",
    "    df = pd.DataFrame()\n",
    "    i = 0 \n",
    "    for index, row, in output.iterrows():\n",
    "        user = output.iloc[index]['user']\n",
    "        # test:\n",
    "        test = output.iloc[index]['test'].copy()\n",
    "        test_series = pd.Series(add_method_user_index(test,'test',user, i))\n",
    "        df = df.append(test_series, ignore_index=True)\n",
    "        # alg\n",
    "        recommended = output.iloc[index]['recommended'].copy()\n",
    "        recommended_series = pd.Series(add_method_user_index(recommended,'recommended',user, i))\n",
    "        df = df.append(recommended_series, ignore_index=True)\n",
    "        # leader \n",
    "        leader = get_optimal_order_list(index)\n",
    "        leader_series = pd.Series(add_method_user_index(leader,'leader',user, i))\n",
    "        df = df.append(leader_series, ignore_index=True)\n",
    "        # size \n",
    "        size = get_larger_size_order_list(index)\n",
    "        size_series = pd.Series(add_method_user_index(size,'size',user, i))\n",
    "        df = df.append(size_series, ignore_index=True)\n",
    "        # explain_priority \n",
    "        exp_priority = get_display_order_list(index)\n",
    "        exp_priority_series = pd.Series(add_method_user_index(exp_priority,'exp_priority',user, i))\n",
    "        df = df.append(exp_priority_series, ignore_index=True)\n",
    "        i+=1\n",
    "    return df"
   ]
  },
  {
   "cell_type": "code",
   "execution_count": null,
   "metadata": {},
   "outputs": [],
   "source": [
    "test = get_data()\n",
    "for i, row_value in test.iterrows():\n",
    "    for col in test.columns[3:]:\n",
    "        p = row_value[col]\n",
    "        if not pd.isnull(p):\n",
    "            user = row_value[1]\n",
    "            test.loc[i,col] = get_project_explainer(user, p)\n",
    "test"
   ]
  },
  {
   "cell_type": "code",
   "execution_count": 28,
   "metadata": {},
   "outputs": [],
   "source": [
    "test.to_csv('explanations_order_D2_standardized.csv',index=False)"
   ]
  },
  {
   "cell_type": "code",
   "execution_count": 124,
   "metadata": {},
   "outputs": [
    {
     "name": "stdout",
     "output_type": "stream",
     "text": [
      "0.999529348181514\n",
      "0.9854825637977803\n",
      "0.9996007099471376\n",
      "0.998939923043521\n"
     ]
    }
   ],
   "source": [
    "# print(f\"kendalltau : {kendalltau([1,2],[2,1])}\")\n",
    "from sklearn.metrics import ndcg_score\n",
    "print(ndcg_score([np.argsort([1,2,3,4,5,6,7,8,9,10])], [np.argsort([2,1,3,4,5,6,7,8,9,10])],ignore_ties=True))\n",
    "print(ndcg_score([np.argsort([1,2,3,4,5,6,7,8,9,10])], [np.argsort([1,2,3,4,5,6,7,8,10,9])],ignore_ties=True))\n",
    "print(ndcg_score([np.asarray([1,2,3,4,5,6,7,8,9,10])], [np.asarray([2,1,3,4,5,6,7,8,9,10])],ignore_ties=True))\n",
    "print(ndcg_score([np.asarray([100,2,3,4,5,6,7,8,9,10])], [np.asarray([100,2,3,4,5,6,7,8,10,9])],ignore_ties=True))\n",
    "\n",
    "# ndcg_score(np.argsort([1,2,3,4,5]), np.argsort([1,2,3,80,75]))"
   ]
  },
  {
   "cell_type": "code",
   "execution_count": 21,
   "metadata": {},
   "outputs": [
    {
     "data": {
      "text/html": [
       "<div>\n",
       "<style scoped>\n",
       "    .dataframe tbody tr th:only-of-type {\n",
       "        vertical-align: middle;\n",
       "    }\n",
       "\n",
       "    .dataframe tbody tr th {\n",
       "        vertical-align: top;\n",
       "    }\n",
       "\n",
       "    .dataframe thead th {\n",
       "        text-align: right;\n",
       "    }\n",
       "</style>\n",
       "<table border=\"1\" class=\"dataframe\">\n",
       "  <thead>\n",
       "    <tr style=\"text-align: right;\">\n",
       "      <th></th>\n",
       "      <th>0</th>\n",
       "      <th>Hybrid</th>\n",
       "      <th>exp_priority</th>\n",
       "      <th>leader</th>\n",
       "      <th>size</th>\n",
       "    </tr>\n",
       "  </thead>\n",
       "  <tbody>\n",
       "    <tr>\n",
       "      <th>0</th>\n",
       "      <td>1.0</td>\n",
       "      <td>NaN</td>\n",
       "      <td>NaN</td>\n",
       "      <td>NaN</td>\n",
       "      <td>NaN</td>\n",
       "    </tr>\n",
       "    <tr>\n",
       "      <th>1</th>\n",
       "      <td>2.0</td>\n",
       "      <td>NaN</td>\n",
       "      <td>NaN</td>\n",
       "      <td>NaN</td>\n",
       "      <td>NaN</td>\n",
       "    </tr>\n",
       "    <tr>\n",
       "      <th>2</th>\n",
       "      <td>3.0</td>\n",
       "      <td>NaN</td>\n",
       "      <td>NaN</td>\n",
       "      <td>NaN</td>\n",
       "      <td>NaN</td>\n",
       "    </tr>\n",
       "    <tr>\n",
       "      <th>3</th>\n",
       "      <td>4.0</td>\n",
       "      <td>NaN</td>\n",
       "      <td>NaN</td>\n",
       "      <td>NaN</td>\n",
       "      <td>NaN</td>\n",
       "    </tr>\n",
       "  </tbody>\n",
       "</table>\n",
       "</div>"
      ],
      "text/plain": [
       "     0 Hybrid exp_priority leader size\n",
       "0  1.0    NaN          NaN    NaN  NaN\n",
       "1  2.0    NaN          NaN    NaN  NaN\n",
       "2  3.0    NaN          NaN    NaN  NaN\n",
       "3  4.0    NaN          NaN    NaN  NaN"
      ]
     },
     "execution_count": 21,
     "metadata": {},
     "output_type": "execute_result"
    }
   ],
   "source": [
    "df = pd.DataFrame(columns=['Hybrid', 'size', 'leader','exp_priority'])\n",
    "df.append({'foo':1, 'bar':2}, ignore_index=True)"
   ]
  },
  {
   "cell_type": "code",
   "execution_count": 12,
   "metadata": {},
   "outputs": [],
   "source": [
    "a = pd.DataFrame()"
   ]
  }
 ],
 "metadata": {
  "kernelspec": {
   "display_name": "Python 3",
   "language": "python",
   "name": "python3"
  },
  "language_info": {
   "codemirror_mode": {
    "name": "ipython",
    "version": 3
   },
   "file_extension": ".py",
   "mimetype": "text/x-python",
   "name": "python",
   "nbconvert_exporter": "python",
   "pygments_lexer": "ipython3",
   "version": "3.6.9"
  }
 },
 "nbformat": 4,
 "nbformat_minor": 2
}
