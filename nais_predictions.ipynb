{
  "nbformat": 4,
  "nbformat_minor": 0,
  "metadata": {
    "colab": {
      "name": "nais_predictions.ipynb",
      "provenance": [],
      "collapsed_sections": []
    },
    "kernelspec": {
      "name": "python3",
      "display_name": "Python 3"
    },
    "language_info": {
      "name": "python"
    }
  },
  "cells": [
    {
      "cell_type": "markdown",
      "metadata": {
        "id": "qUC69Psaa99A"
      },
      "source": [
        "# imports"
      ]
    },
    {
      "cell_type": "code",
      "metadata": {
        "id": "6JrQNA2RC0ki"
      },
      "source": [
        "import numpy as np\n",
        "import pandas as pd\n",
        "import os.path\n",
        "from os import path\n",
        "import tensorflow as tf\n",
        "from argparse import ArgumentParser\n",
        "from batch import get_batch_test_data\n",
        "from evaluate import evaluate\n",
        "import heapq\n",
        "from NAIS import NAIS # change to import NAIS\n",
        "import json\n",
        "from dataset import DataSet "
      ],
      "execution_count": null,
      "outputs": []
    },
    {
      "cell_type": "markdown",
      "metadata": {
        "id": "WRfYp5mdbAFr"
      },
      "source": [
        "#utils"
      ]
    },
    {
      "cell_type": "code",
      "metadata": {
        "id": "RVfUAucUNI80"
      },
      "source": [
        "#  convert json dict to an args object \n",
        "class obj(object):\n",
        "    def __init__(self, dict_):\n",
        "        self.__dict__.update(dict_)\n",
        "\n",
        "def dict2obj(d):\n",
        "    return json.loads(json.dumps(d), object_hook=obj)"
      ],
      "execution_count": null,
      "outputs": []
    },
    {
      "cell_type": "code",
      "metadata": {
        "id": "QCsvLHT0NppQ"
      },
      "source": [
        "# for each user evaluate the hr, ndcg and mrr at K, save csv of avarage scores based all users\n",
        "def predict_and_get_results():\n",
        "  hits, ndcgs, mrrs = [], [], []\n",
        "  test_rank_list_data = []\n",
        "  for batch_id in range(dataset.num_users):\n",
        "      user_input, item_input, test_item, n_u = get_batch_test_data(batch_id=batch_id,\n",
        "                                                                    dataset=dataset)\n",
        "      predictions = nais.predict(user_input=user_input,\n",
        "                                  item_input=item_input,\n",
        "                                  num_idx=n_u)\n",
        "      map_item_score = {}\n",
        "      for i in range(len(item_input)):\n",
        "          item = item_input[i]\n",
        "          map_item_score[item] = predictions[i]\n",
        "\n",
        "      rank_list = heapq.nlargest(topN, map_item_score, key=map_item_score.get)\n",
        "      test_rank_list_data.append([batch_id, test_item, rank_list])\n",
        "      hit, ndcg, mrr = evaluate(rank_list, test_item)\n",
        "      hits.append(hit)\n",
        "      ndcgs.append(ndcg)\n",
        "      mrrs.append(mrr)\n",
        "  test_hr, test_ndcg, test_mrr = np.array(hits).mean(), np.array(ndcgs).mean(), np.array(mrrs).mean()\n",
        "  print(f'data_set_name:{args.data_set_name}, model: {args.checkpoint_name}, HR@{topN}: {test_hr}, NDCG@{topN}: {test_ndcg}, MRR@{topN}: {test_mrr}')\n",
        "  test_rank_list_data_df = pd.DataFrame(test_rank_list_data, columns=['user', 'ranked_item', 'predicted_list'])\n",
        "  if not path.exists(args.save_pred_path):\n",
        "      os.makedirs(args.save_pred_path)\n",
        "  test_rank_list_data_df.to_csv(f'{args.save_pred_path}/predictions.csv', index=False)\n"
      ],
      "execution_count": null,
      "outputs": []
    },
    {
      "cell_type": "markdown",
      "metadata": {
        "id": "laPixNzANOLe"
      },
      "source": [
        "# MovieLens"
      ]
    },
    {
      "cell_type": "code",
      "metadata": {
        "id": "_gzzUtR-NNSp"
      },
      "source": [
        "args = {\n",
        "    'path': '/data', \n",
        "    'data_set_name': 'ml-1m',\n",
        "    'topN': 20,\n",
        "    'checkpoint_name' : 'NAIS_1624547999',\n",
        "    'save_pred_path' : '/predictions/NAIS/ml-1m/32-prod',\n",
        "    'epochs' : 60,\n",
        "    'num_neg' : 4,\n",
        "    'pretrain' : 1,\n",
        "    'embedding_size' : 32,\n",
        "    'attention_factor' : 16,\n",
        "    'algorithm' : 'prod',\n",
        "    'lr' : 0.01,\n",
        "    'beta' : 0.5,\n",
        "    'regs' : '(1e-7, 1e-7, 1e-5, 1e-7, 1e-7)',\n",
        "    'verbose' : 1,\n",
        "    'out' : 1\n",
        "}\n",
        "\n",
        "args = dict2obj(args)\n",
        "topN = args.topN"
      ],
      "execution_count": null,
      "outputs": []
    },
    {
      "cell_type": "code",
      "metadata": {
        "colab": {
          "base_uri": "https://localhost:8080/"
        },
        "id": "ZVzZKIDuNQtY",
        "outputId": "7ec8bb49-aaab-445e-e185-44140aa5e0e2"
      },
      "source": [
        "dataset = DataSet(path=args.path,\n",
        "                      data_set_name=args.data_set_name)"
      ],
      "execution_count": null,
      "outputs": [
        {
          "output_type": "stream",
          "text": [
            "already load the trainList...\n"
          ],
          "name": "stdout"
        }
      ]
    },
    {
      "cell_type": "markdown",
      "metadata": {
        "id": "rV1TEpBdNfPj"
      },
      "source": [
        "## 32 embedding_size"
      ]
    },
    {
      "cell_type": "code",
      "metadata": {
        "id": "4GKA343KMJ8U"
      },
      "source": [
        "nais = NAIS(num_users=dataset.num_users,\n",
        "            num_items=dataset.num_items,\n",
        "            args=args)\n",
        "optimizer = tf.keras.optimizers.Adagrad(learning_rate=args.lr,\n",
        "                                        initial_accumulator_value=1e-8)\n",
        "checkpoint = tf.train.Checkpoint(model=nais,\n",
        "                                  optimizer=optimizer)\n",
        "manager = tf.train.CheckpointManager(checkpoint,\n",
        "                                      directory=f'/NAIS_pretrain/ml-1m/32',\n",
        "                                      checkpoint_name='{args.checkpoint_name}.ckpt',\n",
        "                                      max_to_keep=1)\n",
        "checkpoint.restore(manager.latest_checkpoint)"
      ],
      "execution_count": null,
      "outputs": []
    },
    {
      "cell_type": "code",
      "metadata": {
        "colab": {
          "base_uri": "https://localhost:8080/"
        },
        "id": "PvF5-OFXMSKY",
        "outputId": "aafb9576-e5ee-4e11-9204-3190b17bc50b"
      },
      "source": [
        "predict_and_get_results()"
      ],
      "execution_count": null,
      "outputs": [
        {
          "output_type": "stream",
          "text": [
            "data_set_name:ml-1m, model: NAIS_1624547999, HR@20: 0.8370860927152318, NDCG@20: 0.45807190314259716, MRR@20: 0.34767224905658956\n"
          ],
          "name": "stdout"
        }
      ]
    },
    {
      "cell_type": "markdown",
      "metadata": {
        "id": "Vq45fZ5eOqg1"
      },
      "source": [
        "## 16 embedding_size"
      ]
    },
    {
      "cell_type": "code",
      "metadata": {
        "id": "u9G7LLBTOpyg"
      },
      "source": [
        "args = {\n",
        "    'path': '/data', \n",
        "    'data_set_name': 'ml-1m',\n",
        "    'topN': 20,\n",
        "    'checkpoint_name' : 'NAIS_1624541449',\n",
        "    'save_pred_path' : '/predictions/NAIS/ml-1m/16-prod',\n",
        "    'epochs' : 60,\n",
        "    'num_neg' : 4,\n",
        "    'pretrain' : 1,\n",
        "    'embedding_size' : 16,\n",
        "    'attention_factor' : 16,\n",
        "    'algorithm' : 'prod',\n",
        "    'lr' : 0.01,\n",
        "    'beta' : 0.5,\n",
        "    'regs' : '(1e-7, 1e-7, 1e-5, 1e-7, 1e-7)',\n",
        "    'verbose' : 1,\n",
        "    'out' : 1\n",
        "}\n",
        "\n",
        "args = dict2obj(args)\n",
        "topN = args.topN"
      ],
      "execution_count": null,
      "outputs": []
    },
    {
      "cell_type": "code",
      "metadata": {
        "id": "gXenqcI_OyZI"
      },
      "source": [
        "nais = NAIS(num_users=dataset.num_users,\n",
        "            num_items=dataset.num_items,\n",
        "            args=args)\n",
        "optimizer = tf.keras.optimizers.Adagrad(learning_rate=args.lr,\n",
        "                                        initial_accumulator_value=1e-8)\n",
        "checkpoint = tf.train.Checkpoint(model=nais,\n",
        "                                  optimizer=optimizer)\n",
        "manager = tf.train.CheckpointManager(checkpoint,\n",
        "                                      directory=f'/NAIS_pretrain/ml-1m/16', # cahnge\n",
        "                                      checkpoint_name='{args.checkpoint_name}.ckpt',\n",
        "                                      max_to_keep=1)\n",
        "checkpoint.restore(manager.latest_checkpoint)"
      ],
      "execution_count": null,
      "outputs": []
    },
    {
      "cell_type": "code",
      "metadata": {
        "id": "EEl3HP5CO0UB"
      },
      "source": [
        "predict_and_get_results()"
      ],
      "execution_count": null,
      "outputs": []
    },
    {
      "cell_type": "markdown",
      "metadata": {
        "id": "eoX5kS_DN_EO"
      },
      "source": [
        "## 64 embedding_size"
      ]
    },
    {
      "cell_type": "code",
      "metadata": {
        "id": "_1jVeyMCGY2M"
      },
      "source": [
        "args = {\n",
        "    'path': '/data',\n",
        "    'data_set_name': 'ml-1m',\n",
        "    'topN': 20,\n",
        "    'checkpoint_name' : 'NAIS_1624807076',\n",
        "    'save_pred_path' : '/predictions/NAIS/ml-1m/64-prod',\n",
        "    'epochs' : 60,\n",
        "    'num_neg' : 4,\n",
        "    'pretrain' : 1,\n",
        "    'embedding_size' : 64,\n",
        "    'attention_factor' : 64,\n",
        "    'algorithm' : 'prod',\n",
        "    'lr' : 0.01,\n",
        "    'beta' : 0.5,\n",
        "    'regs' : '(1e-7, 1e-7, 1e-5, 1e-7, 1e-7)',\n",
        "    'verbose' : 1,\n",
        "    'out' : 1\n",
        "}\n",
        "\n",
        "args = dict2obj(args)"
      ],
      "execution_count": null,
      "outputs": []
    },
    {
      "cell_type": "code",
      "metadata": {
        "colab": {
          "base_uri": "https://localhost:8080/"
        },
        "id": "bb2E6mCAURBu",
        "outputId": "95bd7157-4f29-46dd-ed4d-cbefbadd8916"
      },
      "source": [
        "nais = NAIS(num_users=dataset.num_users,\n",
        "            num_items=dataset.num_items,\n",
        "            args=args)\n",
        "optimizer = tf.keras.optimizers.Adagrad(learning_rate=args.lr,\n",
        "                                        initial_accumulator_value=1e-8)\n",
        "checkpoint = tf.train.Checkpoint(model=nais,\n",
        "                                  optimizer=optimizer)\n",
        "manager = tf.train.CheckpointManager(checkpoint,\n",
        "                                      directory=f'/NAIS_pretrain/ml-1m/64',\n",
        "                                      checkpoint_name='{args.checkpoint_name}.ckpt',\n",
        "                                      max_to_keep=1)\n",
        "checkpoint.restore(manager.latest_checkpoint)"
      ],
      "execution_count": null,
      "outputs": [
        {
          "output_type": "execute_result",
          "data": {
            "text/plain": [
              "<tensorflow.python.training.tracking.util.CheckpointLoadStatus at 0x7f5bd90aad90>"
            ]
          },
          "metadata": {
            "tags": []
          },
          "execution_count": 45
        }
      ]
    },
    {
      "cell_type": "code",
      "metadata": {
        "colab": {
          "base_uri": "https://localhost:8080/"
        },
        "id": "uns3M_c6UY55",
        "outputId": "906cc2a4-5225-4f8e-e10c-f5e9582a9f03"
      },
      "source": [
        "predict_and_get_results()"
      ],
      "execution_count": null,
      "outputs": [
        {
          "output_type": "stream",
          "text": [
            "data_set_name:ml-1m, model: NAIS_1624807076, HR@20: 0.8375827814569536, NDCG@20: 0.45769023349891197, MRR@20: 0.34734078727893825\n"
          ],
          "name": "stdout"
        }
      ]
    },
    {
      "cell_type": "markdown",
      "metadata": {
        "id": "HQTP7lbMUmxF"
      },
      "source": [
        "# pinterest"
      ]
    },
    {
      "cell_type": "code",
      "metadata": {
        "id": "xHrtloWUUl3a"
      },
      "source": [
        "args = {\n",
        "    'path': 'data',\n",
        "    'data_set_name': 'pinterest-20',\n",
        "    'topN': 20,\n",
        "    'checkpoint_name' : 'NAIS_1624607273',\n",
        "    'save_pred_path' : '/predictions/NAIS/pinterest-20/16-prod',\n",
        "    'epochs' : 60,\n",
        "    'num_neg' : 4,\n",
        "    'pretrain' : 1,\n",
        "    'embedding_size' : 16,\n",
        "    'attention_factor' : 16,\n",
        "    'algorithm' : 'prod',\n",
        "    'lr' : 0.01,\n",
        "    'beta' : 0.5,\n",
        "    'regs' : '(1e-7, 1e-7, 1e-5, 1e-7, 1e-7)',\n",
        "    'verbose' : 1,\n",
        "    'out' : 1\n",
        "}\n",
        "\n",
        "args = dict2obj(args)\n",
        "topN = args.topN"
      ],
      "execution_count": null,
      "outputs": []
    },
    {
      "cell_type": "code",
      "metadata": {
        "colab": {
          "base_uri": "https://localhost:8080/"
        },
        "id": "2hXT3amgUvxi",
        "outputId": "56944cfd-d0a5-499a-f3d5-7b3c495152cc"
      },
      "source": [
        "dataset = DataSet(path=args.path,\n",
        "                      data_set_name=args.data_set_name)"
      ],
      "execution_count": null,
      "outputs": [
        {
          "output_type": "stream",
          "text": [
            "already load the trainList...\n"
          ],
          "name": "stdout"
        }
      ]
    },
    {
      "cell_type": "markdown",
      "metadata": {
        "id": "RIb4JKBGOX5q"
      },
      "source": [
        "## 16 embedding_size"
      ]
    },
    {
      "cell_type": "code",
      "metadata": {
        "colab": {
          "base_uri": "https://localhost:8080/"
        },
        "id": "fz7_cToNUyuK",
        "outputId": "9a7fa697-1289-4a79-d9d3-5a056b6fe592"
      },
      "source": [
        "nais = NAIS(num_users=dataset.num_users,\n",
        "            num_items=dataset.num_items,\n",
        "            args=args)\n",
        "optimizer = tf.keras.optimizers.Adagrad(learning_rate=args.lr,\n",
        "                                        initial_accumulator_value=1e-8)\n",
        "checkpoint = tf.train.Checkpoint(model=nais,\n",
        "                                  optimizer=optimizer)\n",
        "manager = tf.train.CheckpointManager(checkpoint,\n",
        "                                      directory=f'/NAIS_pretrain/pinterest-20/16',\n",
        "                                      checkpoint_name='{args.checkpoint_name}.ckpt',\n",
        "                                      max_to_keep=1)\n",
        "checkpoint.restore(manager.latest_checkpoint)"
      ],
      "execution_count": null,
      "outputs": [
        {
          "output_type": "execute_result",
          "data": {
            "text/plain": [
              "<tensorflow.python.training.tracking.util.CheckpointLoadStatus at 0x7f5be5999e90>"
            ]
          },
          "metadata": {
            "tags": []
          },
          "execution_count": 49
        }
      ]
    },
    {
      "cell_type": "code",
      "metadata": {
        "colab": {
          "base_uri": "https://localhost:8080/"
        },
        "id": "97uaw9LbUzuL",
        "outputId": "8fdb858e-5106-48fc-bb0c-eecf4cd80d2e"
      },
      "source": [
        "predict_and_get_results()"
      ],
      "execution_count": null,
      "outputs": [
        {
          "output_type": "stream",
          "text": [
            "data_set_name:pinterest-20, model: NAIS_1624607273, HR@20: 0.964194466088028, NDCG@20: 0.5796277153608185, MRR@20: 0.46368349984519325\n"
          ],
          "name": "stdout"
        }
      ]
    },
    {
      "cell_type": "markdown",
      "metadata": {
        "id": "NQfS-biEYGBP"
      },
      "source": [
        "## 32 embedding_size"
      ]
    },
    {
      "cell_type": "code",
      "metadata": {
        "id": "UzNt4J6uYGBP"
      },
      "source": [
        "args = {\n",
        "    'path': '/data',\n",
        "    'data_set_name': 'pinterest-20',\n",
        "    'topN': 20,\n",
        "    'checkpoint_name' : 'NAIS_1625224145',\n",
        "    'save_pred_path' : '/predictions/NAIS/pinterest-20/32-prod',\n",
        "    'epochs' : 60,\n",
        "    'num_neg' : 4,\n",
        "    'pretrain' : 1,\n",
        "    'embedding_size' : 32,\n",
        "    'attention_factor' : 32,\n",
        "    'algorithm' : 'prod',\n",
        "    'lr' : 0.01,\n",
        "    'beta' : 0.5,\n",
        "    'regs' : '(1e-7, 1e-7, 1e-5, 1e-7, 1e-7)',\n",
        "    'verbose' : 1,\n",
        "    'out' : 1\n",
        "}\n",
        "\n",
        "args = dict2obj(args)\n",
        "topN = args.topN"
      ],
      "execution_count": null,
      "outputs": []
    },
    {
      "cell_type": "code",
      "metadata": {
        "colab": {
          "base_uri": "https://localhost:8080/"
        },
        "id": "uZkQw12tYGBQ",
        "outputId": "d9503575-e9b2-418a-bf99-9f8931e27734"
      },
      "source": [
        "nais = NAIS(num_users=dataset.num_users,\n",
        "            num_items=dataset.num_items,\n",
        "            args=args)\n",
        "optimizer = tf.keras.optimizers.Adagrad(learning_rate=args.lr,\n",
        "                                        initial_accumulator_value=1e-8)\n",
        "checkpoint = tf.train.Checkpoint(model=nais,\n",
        "                                  optimizer=optimizer)\n",
        "manager = tf.train.CheckpointManager(checkpoint,\n",
        "                                      directory=f'/NAIS_pretrain/pinterest-20/32',\n",
        "                                      checkpoint_name='{args.checkpoint_name}.ckpt',\n",
        "                                      max_to_keep=1)\n",
        "checkpoint.restore(manager.latest_checkpoint)"
      ],
      "execution_count": null,
      "outputs": [
        {
          "output_type": "execute_result",
          "data": {
            "text/plain": [
              "<tensorflow.python.training.tracking.util.CheckpointLoadStatus at 0x7f5a9b896e50>"
            ]
          },
          "metadata": {
            "tags": []
          },
          "execution_count": 12
        }
      ]
    },
    {
      "cell_type": "code",
      "metadata": {
        "colab": {
          "base_uri": "https://localhost:8080/"
        },
        "id": "AUPvZN72YGBQ",
        "outputId": "7cad49dd-0b49-4f9c-b46e-9a73c0afec9d"
      },
      "source": [
        "predict_and_get_results()"
      ],
      "execution_count": null,
      "outputs": [
        {
          "output_type": "stream",
          "text": [
            "data_set_name:pinterest-20, model: NAIS_1625224145, HR@20: 0.9656984434740066, NDCG@20: 0.5812947137794424, MRR@20: 0.46525380984964393\n"
          ],
          "name": "stdout"
        }
      ]
    },
    {
      "cell_type": "markdown",
      "metadata": {
        "id": "vioQMm7rPAF9"
      },
      "source": [
        "## 64 embedding_size"
      ]
    },
    {
      "cell_type": "code",
      "metadata": {
        "id": "cOa7LWP1VJHJ"
      },
      "source": [
        "args = {\n",
        "    'path': '/data',\n",
        "    'data_set_name': 'pinterest-20',\n",
        "    'topN': 20,\n",
        "    'checkpoint_name' : 'NAIS_1624604790',\n",
        "    'save_pred_path' : '/predictions/NAIS/pinterest-20/64-prod',\n",
        "    'epochs' : 60,\n",
        "    'num_neg' : 4,\n",
        "    'pretrain' : 1,\n",
        "    'embedding_size' : 64,\n",
        "    'attention_factor' : 64,\n",
        "    'algorithm' : 'prod',\n",
        "    'lr' : 0.01,\n",
        "    'beta' : 0.5,\n",
        "    'regs' : '(1e-7, 1e-7, 1e-5, 1e-7, 1e-7)',\n",
        "    'verbose' : 1,\n",
        "    'out' : 1\n",
        "}\n",
        "\n",
        "args = dict2obj(args)\n",
        "topN = args.topN"
      ],
      "execution_count": null,
      "outputs": []
    },
    {
      "cell_type": "code",
      "metadata": {
        "colab": {
          "base_uri": "https://localhost:8080/"
        },
        "id": "YLFWMqpOWTHp",
        "outputId": "3761f7a2-db28-486f-d4ff-e10edc69fcda"
      },
      "source": [
        "nais = NAIS(num_users=dataset.num_users,\n",
        "            num_items=dataset.num_items,\n",
        "            args=args)\n",
        "optimizer = tf.keras.optimizers.Adagrad(learning_rate=args.lr,\n",
        "                                        initial_accumulator_value=1e-8)\n",
        "checkpoint = tf.train.Checkpoint(model=nais,\n",
        "                                  optimizer=optimizer)\n",
        "manager = tf.train.CheckpointManager(checkpoint,\n",
        "                                      directory=f'/NAIS_pretrain/pinterest-20/64',\n",
        "                                      checkpoint_name='{args.checkpoint_name}.ckpt',\n",
        "                                      max_to_keep=1)\n",
        "checkpoint.restore(manager.latest_checkpoint)"
      ],
      "execution_count": null,
      "outputs": [
        {
          "output_type": "execute_result",
          "data": {
            "text/plain": [
              "<tensorflow.python.training.tracking.util.CheckpointLoadStatus at 0x7f5bd90b2950>"
            ]
          },
          "metadata": {
            "tags": []
          },
          "execution_count": 52
        }
      ]
    },
    {
      "cell_type": "code",
      "metadata": {
        "colab": {
          "base_uri": "https://localhost:8080/"
        },
        "id": "9b1B7hCpWVKd",
        "outputId": "da4c569c-9ed7-46cc-f8ff-c556bd545c84"
      },
      "source": [
        "predict_and_get_results()"
      ],
      "execution_count": null,
      "outputs": [
        {
          "output_type": "stream",
          "text": [
            "data_set_name:pinterest-20, model: NAIS_1624604790, HR@20: 0.9658977657781724, NDCG@20: 0.582161199884665, MRR@20: 0.46655216974303615\n"
          ],
          "name": "stdout"
        }
      ]
    }
  ]
}